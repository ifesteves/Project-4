{
 "cells": [
  {
   "cell_type": "markdown",
   "metadata": {},
   "source": [
    "Olá, Isabelle!\n",
    "\n",
    "Meu nome é Ramon. Fico feliz em revisar seu projeto. Ao ao longo do texto farei algumas observações sobre melhorias no código e também farei comentários sobre suas percepções sobre o assunto. Estarei aberto a feedbacks e discussões sobre o tema.\n",
    "\n",
    "**Peço que mantenha e não altere os comentários que eu fizer por aqui para que possamos nos localizar posteriormente, ok?**\n",
    "\n",
    "Mais uma coisa, vamos utilizar um código de cores para você entender os meus feedbacks no seu notebook. Funciona assim:\n",
    "\n",
    "<div class=\"alert alert-block alert-success\">\n",
    "<b> Comentário do revisor: </b> <a class=\"tocSkip\"></a>\n",
    "\n",
    "Sucesso. Tudo foi feito corretamente.\n",
    "</div>\n",
    "\n",
    "<div class=\"alert alert-block alert-warning\">\n",
    "<b>Comentário do revisor: </b> <a class=\"tocSkip\"></a>\n",
    "\n",
    "Alerta não crítco, mas que pode ser corrigido para melhoria geral no seu código/análise\n",
    "</div>\n",
    "\n",
    "<div class=\"alert alert-block alert-danger\">\n",
    "\n",
    "<b>Comentário do revisor: </b> <a class=\"tocSkip\"></a>\n",
    "    \n",
    "Erro que precisa ser consertado, caso contrário seu projeto **não** será aceito.\n",
    "</div>\n",
    "\n",
    "Você pode me responder usando isso:\n",
    "<div class=\"alert alert-block alert-info\">\n",
    "<b>Resposta do Aluno.</b> <a class=\"tocSkip\"></a>\n",
    "</div>"
   ]
  },
  {
   "cell_type": "code",
   "execution_count": 1,
   "metadata": {},
   "outputs": [
    {
     "name": "stdout",
     "output_type": "stream",
     "text": [
      "                       Name Platform  Year_of_Release         Genre  NA_sales  \\\n",
      "0                Wii Sports      Wii           2006.0        Sports     41.36   \n",
      "1         Super Mario Bros.      NES           1985.0      Platform     29.08   \n",
      "2            Mario Kart Wii      Wii           2008.0        Racing     15.68   \n",
      "3         Wii Sports Resort      Wii           2009.0        Sports     15.61   \n",
      "4  Pokemon Red/Pokemon Blue       GB           1996.0  Role-Playing     11.27   \n",
      "\n",
      "   EU_sales  JP_sales  Other_sales  Critic_Score User_Score Rating  \n",
      "0     28.96      3.77         8.45          76.0          8      E  \n",
      "1      3.58      6.81         0.77           NaN        NaN    NaN  \n",
      "2     12.76      3.79         3.29          82.0        8.3      E  \n",
      "3     10.93      3.28         2.95          80.0          8      E  \n",
      "4      8.89     10.22         1.00           NaN        NaN    NaN  \n",
      "<class 'pandas.core.frame.DataFrame'>\n",
      "RangeIndex: 16715 entries, 0 to 16714\n",
      "Data columns (total 11 columns):\n",
      " #   Column           Non-Null Count  Dtype  \n",
      "---  ------           --------------  -----  \n",
      " 0   Name             16713 non-null  object \n",
      " 1   Platform         16715 non-null  object \n",
      " 2   Year_of_Release  16446 non-null  float64\n",
      " 3   Genre            16713 non-null  object \n",
      " 4   NA_sales         16715 non-null  float64\n",
      " 5   EU_sales         16715 non-null  float64\n",
      " 6   JP_sales         16715 non-null  float64\n",
      " 7   Other_sales      16715 non-null  float64\n",
      " 8   Critic_Score     8137 non-null   float64\n",
      " 9   User_Score       10014 non-null  object \n",
      " 10  Rating           9949 non-null   object \n",
      "dtypes: float64(6), object(5)\n",
      "memory usage: 1.4+ MB\n",
      "None\n"
     ]
    }
   ],
   "source": [
    "import pandas as pd\n",
    "data = pd.read_csv(\"/datasets/games.csv\")\n",
    "\n",
    "print(data.head())  \n",
    "print(data.info())  "
   ]
  },
  {
   "cell_type": "code",
   "execution_count": 2,
   "metadata": {},
   "outputs": [],
   "source": [
    "data.columns = data.columns.str.lower()"
   ]
  },
  {
   "cell_type": "code",
   "execution_count": 3,
   "metadata": {},
   "outputs": [],
   "source": [
    "data['year_of_release'] = data['year_of_release'].fillna(-1).astype(int)"
   ]
  },
  {
   "cell_type": "markdown",
   "metadata": {},
   "source": [
    "<div class=\"alert alert-block alert-warning\">\n",
    "<b> Comentário do revisor: </b> <a class=\"tocSkip\"></a>\n",
    "\n",
    "A imputação deve ser feita com cuidado. O que leva a imputar com -1?\n",
    "</div>"
   ]
  },
  {
   "cell_type": "markdown",
   "metadata": {},
   "source": [
    "<div class=\"alert alert-block alert-info\">\n",
    "<b>Resposta do Aluno:</b>   \n",
    "\n",
    "A coluna year_of_release contém valores ausentes (NaN) que não podem ser convertidos diretamente para o tipo de dados int. O -1 foi a maneira de lidar com os valores ausentes na coluna \"year_of_release\" e preenchê-los com um valor padrão, que indicaria que o ano de lançamento é desconhecido. <a class=\"tocSkip\"></a>\n",
    "</div>"
   ]
  },
  {
   "cell_type": "code",
   "execution_count": 4,
   "metadata": {},
   "outputs": [],
   "source": [
    "data['user_score'] = pd.to_numeric(data['user_score'], errors='coerce')"
   ]
  },
  {
   "cell_type": "code",
   "execution_count": 5,
   "metadata": {},
   "outputs": [],
   "source": [
    "data['rating'] = data['rating'].astype('category')"
   ]
  },
  {
   "cell_type": "code",
   "execution_count": 6,
   "metadata": {},
   "outputs": [
    {
     "name": "stdout",
     "output_type": "stream",
     "text": [
      "                       name platform  year_of_release         genre  na_sales  \\\n",
      "0                Wii Sports      Wii             2006        Sports     41.36   \n",
      "1         Super Mario Bros.      NES             1985      Platform     29.08   \n",
      "2            Mario Kart Wii      Wii             2008        Racing     15.68   \n",
      "3         Wii Sports Resort      Wii             2009        Sports     15.61   \n",
      "4  Pokemon Red/Pokemon Blue       GB             1996  Role-Playing     11.27   \n",
      "\n",
      "   eu_sales  jp_sales  other_sales  critic_score  user_score rating  \n",
      "0     28.96      3.77         8.45          76.0         8.0      E  \n",
      "1      3.58      6.81         0.77           NaN         NaN    NaN  \n",
      "2     12.76      3.79         3.29          82.0         8.3      E  \n",
      "3     10.93      3.28         2.95          80.0         8.0      E  \n",
      "4      8.89     10.22         1.00           NaN         NaN    NaN  \n",
      "<class 'pandas.core.frame.DataFrame'>\n",
      "RangeIndex: 16715 entries, 0 to 16714\n",
      "Data columns (total 11 columns):\n",
      " #   Column           Non-Null Count  Dtype   \n",
      "---  ------           --------------  -----   \n",
      " 0   name             16713 non-null  object  \n",
      " 1   platform         16715 non-null  object  \n",
      " 2   year_of_release  16715 non-null  int64   \n",
      " 3   genre            16713 non-null  object  \n",
      " 4   na_sales         16715 non-null  float64 \n",
      " 5   eu_sales         16715 non-null  float64 \n",
      " 6   jp_sales         16715 non-null  float64 \n",
      " 7   other_sales      16715 non-null  float64 \n",
      " 8   critic_score     8137 non-null   float64 \n",
      " 9   user_score       7590 non-null   float64 \n",
      " 10  rating           9949 non-null   category\n",
      "dtypes: category(1), float64(6), int64(1), object(3)\n",
      "memory usage: 1.3+ MB\n",
      "None\n"
     ]
    }
   ],
   "source": [
    "print(data.head())  \n",
    "print(data.info()) "
   ]
  },
  {
   "cell_type": "code",
   "execution_count": 7,
   "metadata": {},
   "outputs": [
    {
     "name": "stdout",
     "output_type": "stream",
     "text": [
      "        name  platform  year_of_release  genre  na_sales  eu_sales  jp_sales  \\\n",
      "0      False     False            False  False     False     False     False   \n",
      "1      False     False            False  False     False     False     False   \n",
      "2      False     False            False  False     False     False     False   \n",
      "3      False     False            False  False     False     False     False   \n",
      "4      False     False            False  False     False     False     False   \n",
      "...      ...       ...              ...    ...       ...       ...       ...   \n",
      "16710  False     False            False  False     False     False     False   \n",
      "16711  False     False            False  False     False     False     False   \n",
      "16712  False     False            False  False     False     False     False   \n",
      "16713  False     False            False  False     False     False     False   \n",
      "16714  False     False            False  False     False     False     False   \n",
      "\n",
      "       other_sales  critic_score  user_score  rating  \n",
      "0            False         False       False   False  \n",
      "1            False         False       False   False  \n",
      "2            False         False       False   False  \n",
      "3            False         False       False   False  \n",
      "4            False         False       False   False  \n",
      "...            ...           ...         ...     ...  \n",
      "16710        False         False       False   False  \n",
      "16711        False         False       False   False  \n",
      "16712        False         False       False   False  \n",
      "16713        False         False       False   False  \n",
      "16714        False         False       False   False  \n",
      "\n",
      "[16715 rows x 11 columns]\n"
     ]
    }
   ],
   "source": [
    "data['critic_score'].fillna(data['critic_score'].mean(), inplace=True)\n",
    "data['user_score'] = pd.to_numeric(data['user_score'], errors='coerce')\n",
    "data['user_score'].fillna(data['user_score'].mean(), inplace=True)\n",
    "data['rating'] = data['rating'].cat.add_categories('none')\n",
    "data['rating'].fillna('none', inplace=True)\n",
    "print(data.isna()) "
   ]
  },
  {
   "cell_type": "markdown",
   "metadata": {},
   "source": [
    "<div class=\"alert alert-block alert-warning\">\n",
    "<b> Comentário do revisor: </b> <a class=\"tocSkip\"></a>\n",
    "\n",
    "O que te motiva a imputar com a média? Você não fez EDA para avaliar distribuições, etc\n",
    "</div>"
   ]
  },
  {
   "cell_type": "markdown",
   "metadata": {},
   "source": [
    "<div class=\"alert alert-block alert-info\">\n",
    "<b>Resposta do Aluno:</b>   \n",
    "\n",
    "Eu imputei a média pelo fato das colunas user_score (Pontuação do usuário) e critic_score (Pontuação crítica) serem pontuações, desta forma, entendi que a média seria uma valor coerente a ser usado ao invés de permanecer com valores nulos nestas colunas. <a class=\"tocSkip\"></a>\n",
    "</div>"
   ]
  },
  {
   "cell_type": "code",
   "execution_count": 8,
   "metadata": {},
   "outputs": [
    {
     "name": "stdout",
     "output_type": "stream",
     "text": [
      "                       name platform  year_of_release         genre  na_sales  \\\n",
      "0                Wii Sports      Wii             2006        Sports     41.36   \n",
      "1         Super Mario Bros.      NES             1985      Platform     29.08   \n",
      "2            Mario Kart Wii      Wii             2008        Racing     15.68   \n",
      "3         Wii Sports Resort      Wii             2009        Sports     15.61   \n",
      "4  Pokemon Red/Pokemon Blue       GB             1996  Role-Playing     11.27   \n",
      "\n",
      "   eu_sales  jp_sales  other_sales  critic_score  user_score rating  \n",
      "0     28.96      3.77         8.45     76.000000    8.000000      E  \n",
      "1      3.58      6.81         0.77     68.967679    7.125046   none  \n",
      "2     12.76      3.79         3.29     82.000000    8.300000      E  \n",
      "3     10.93      3.28         2.95     80.000000    8.000000      E  \n",
      "4      8.89     10.22         1.00     68.967679    7.125046   none  \n",
      "<class 'pandas.core.frame.DataFrame'>\n",
      "RangeIndex: 16715 entries, 0 to 16714\n",
      "Data columns (total 11 columns):\n",
      " #   Column           Non-Null Count  Dtype   \n",
      "---  ------           --------------  -----   \n",
      " 0   name             16713 non-null  object  \n",
      " 1   platform         16715 non-null  object  \n",
      " 2   year_of_release  16715 non-null  int64   \n",
      " 3   genre            16713 non-null  object  \n",
      " 4   na_sales         16715 non-null  float64 \n",
      " 5   eu_sales         16715 non-null  float64 \n",
      " 6   jp_sales         16715 non-null  float64 \n",
      " 7   other_sales      16715 non-null  float64 \n",
      " 8   critic_score     16715 non-null  float64 \n",
      " 9   user_score       16715 non-null  float64 \n",
      " 10  rating           16715 non-null  category\n",
      "dtypes: category(1), float64(6), int64(1), object(3)\n",
      "memory usage: 1.3+ MB\n",
      "None\n"
     ]
    }
   ],
   "source": [
    "print(data.head())  \n",
    "print(data.info()) "
   ]
  },
  {
   "cell_type": "markdown",
   "metadata": {},
   "source": [
    "Neste primeiro ponto, os tipos de dados das colunas year_of_release e user_score foram alterados. A coluna year_of_release estava com o tipo de dados float e foi modificado para int, essa modificação foi necessária para trazer aos dados desta coluna mais integridade, uma vez que, a informação no tipo float dificultaria a leitura e tratativa das informações. A coluna user_score estava como object e foi modificado para float, esta modificação foi necessária pois os dados da coluna são dados numéricos, facilitando assim o trabalho com as informações constantes nela nas próximas etapas.\n",
    "\n",
    "As colunas critic_score, user_score e rating tinham valores ausentes, optei por preencher os valores ausentes nas colunas critic_score e user_score com a mediana dos valores já existentes, e a coluna rating optei por preencher com none."
   ]
  },
  {
   "cell_type": "code",
   "execution_count": 9,
   "metadata": {},
   "outputs": [],
   "source": [
    "data['user_score'] = data['user_score'].replace('TBD', pd.NA)"
   ]
  },
  {
   "cell_type": "code",
   "execution_count": 10,
   "metadata": {},
   "outputs": [],
   "source": [
    "data['total_sales'] = data[['na_sales', 'eu_sales', 'jp_sales', 'other_sales']].sum(axis=1)"
   ]
  },
  {
   "cell_type": "code",
   "execution_count": 11,
   "metadata": {},
   "outputs": [
    {
     "name": "stdout",
     "output_type": "stream",
     "text": [
      "                       name platform  year_of_release         genre  na_sales  \\\n",
      "0                Wii Sports      Wii             2006        Sports     41.36   \n",
      "1         Super Mario Bros.      NES             1985      Platform     29.08   \n",
      "2            Mario Kart Wii      Wii             2008        Racing     15.68   \n",
      "3         Wii Sports Resort      Wii             2009        Sports     15.61   \n",
      "4  Pokemon Red/Pokemon Blue       GB             1996  Role-Playing     11.27   \n",
      "\n",
      "   eu_sales  jp_sales  other_sales  critic_score  user_score rating  \\\n",
      "0     28.96      3.77         8.45     76.000000    8.000000      E   \n",
      "1      3.58      6.81         0.77     68.967679    7.125046   none   \n",
      "2     12.76      3.79         3.29     82.000000    8.300000      E   \n",
      "3     10.93      3.28         2.95     80.000000    8.000000      E   \n",
      "4      8.89     10.22         1.00     68.967679    7.125046   none   \n",
      "\n",
      "   total_sales  \n",
      "0        82.54  \n",
      "1        40.24  \n",
      "2        35.52  \n",
      "3        32.77  \n",
      "4        31.38  \n",
      "<class 'pandas.core.frame.DataFrame'>\n",
      "RangeIndex: 16715 entries, 0 to 16714\n",
      "Data columns (total 12 columns):\n",
      " #   Column           Non-Null Count  Dtype   \n",
      "---  ------           --------------  -----   \n",
      " 0   name             16713 non-null  object  \n",
      " 1   platform         16715 non-null  object  \n",
      " 2   year_of_release  16715 non-null  int64   \n",
      " 3   genre            16713 non-null  object  \n",
      " 4   na_sales         16715 non-null  float64 \n",
      " 5   eu_sales         16715 non-null  float64 \n",
      " 6   jp_sales         16715 non-null  float64 \n",
      " 7   other_sales      16715 non-null  float64 \n",
      " 8   critic_score     16715 non-null  float64 \n",
      " 9   user_score       16715 non-null  float64 \n",
      " 10  rating           16715 non-null  category\n",
      " 11  total_sales      16715 non-null  float64 \n",
      "dtypes: category(1), float64(7), int64(1), object(3)\n",
      "memory usage: 1.4+ MB\n",
      "None\n"
     ]
    }
   ],
   "source": [
    "print(data.head())  \n",
    "print(data.info()) "
   ]
  },
  {
   "cell_type": "markdown",
   "metadata": {},
   "source": [
    "A abreviação \"TBD\" na coluna \"user_score\",optei por substituí-la por um valor que represente adequadamente que a pontuação ainda está pendente de determinação. Nesse caso, \"TBD\" por NaN (Not a Number) para indicar que os valores estão em branco, tornando mais fácil trabalhar com esses dados em análises subsequentes."
   ]
  },
  {
   "cell_type": "code",
   "execution_count": 12,
   "metadata": {},
   "outputs": [
    {
     "name": "stdout",
     "output_type": "stream",
     "text": [
      "-1        269\n",
      " 1980       9\n",
      " 1981      46\n",
      " 1982      36\n",
      " 1983      17\n",
      " 1984      14\n",
      " 1985      14\n",
      " 1986      21\n",
      " 1987      16\n",
      " 1988      15\n",
      " 1989      17\n",
      " 1990      16\n",
      " 1991      41\n",
      " 1992      43\n",
      " 1993      62\n",
      " 1994     121\n",
      " 1995     219\n",
      " 1996     263\n",
      " 1997     289\n",
      " 1998     379\n",
      " 1999     338\n",
      " 2000     350\n",
      " 2001     482\n",
      " 2002     829\n",
      " 2003     775\n",
      " 2004     762\n",
      " 2005     939\n",
      " 2006    1006\n",
      " 2007    1197\n",
      " 2008    1427\n",
      " 2009    1426\n",
      " 2010    1255\n",
      " 2011    1136\n",
      " 2012     653\n",
      " 2013     544\n",
      " 2014     581\n",
      " 2015     606\n",
      " 2016     502\n",
      "Name: year_of_release, dtype: int64\n"
     ]
    }
   ],
   "source": [
    "games_per_year = data['year_of_release'].value_counts().sort_index()\n",
    "print(games_per_year)  "
   ]
  },
  {
   "cell_type": "markdown",
   "metadata": {},
   "source": [
    "Os dados são significativos, mostrando que houve um aumento nos lançamentos de jogos de 2002 a 2011, e voltando a ter uma redução de 2011 a 2016."
   ]
  },
  {
   "cell_type": "code",
   "execution_count": 13,
   "metadata": {},
   "outputs": [
    {
     "name": "stdout",
     "output_type": "stream",
     "text": [
      "platform\n",
      "PS2     1255.77\n",
      "X360     971.42\n",
      "PS3      939.65\n",
      "Wii      907.51\n",
      "DS       806.12\n",
      "PS       730.86\n",
      "GBA      317.85\n",
      "PS4      314.14\n",
      "PSP      294.05\n",
      "PC       259.52\n",
      "3DS      259.00\n",
      "XB       257.74\n",
      "GB       255.46\n",
      "NES      251.05\n",
      "N64      218.68\n",
      "SNES     200.04\n",
      "GC       198.93\n",
      "XOne     159.32\n",
      "2600      96.98\n",
      "WiiU      82.19\n",
      "PSV       54.07\n",
      "SAT       33.59\n",
      "GEN       30.77\n",
      "DC        15.95\n",
      "SCD        1.86\n",
      "NG         1.44\n",
      "WS         1.42\n",
      "TG16       0.16\n",
      "3DO        0.10\n",
      "GG         0.04\n",
      "PCFX       0.03\n",
      "Name: total_sales, dtype: float64\n"
     ]
    }
   ],
   "source": [
    "total_sales_per_platform = data.groupby('platform')['total_sales'].sum().sort_values(ascending=False)\n",
    "print(total_sales_per_platform)"
   ]
  },
  {
   "cell_type": "code",
   "execution_count": 14,
   "metadata": {},
   "outputs": [
    {
     "name": "stdout",
     "output_type": "stream",
     "text": [
      "year_of_release\n",
      "-1        98.92\n",
      " 1980     11.38\n",
      " 1981     35.68\n",
      " 1982     28.88\n",
      " 1983     16.80\n",
      " 1984     50.35\n",
      " 1985     53.95\n",
      " 1986     37.08\n",
      " 1987     21.70\n",
      " 1988     47.21\n",
      " 1989     73.45\n",
      " 1990     49.37\n",
      " 1991     32.23\n",
      " 1992     76.16\n",
      " 1993     48.41\n",
      " 1994     79.23\n",
      " 1995     88.12\n",
      " 1996    199.15\n",
      " 1997    201.07\n",
      " 1998    256.31\n",
      " 1999    251.11\n",
      " 2000    201.66\n",
      " 2001    331.46\n",
      " 2002    394.97\n",
      " 2003    357.54\n",
      " 2004    418.68\n",
      " 2005    457.82\n",
      " 2006    517.71\n",
      " 2007    604.75\n",
      " 2008    671.50\n",
      " 2009    658.82\n",
      " 2010    590.13\n",
      " 2011    507.58\n",
      " 2012    355.84\n",
      " 2013    361.24\n",
      " 2014    331.53\n",
      " 2015    267.98\n",
      " 2016    129.94\n",
      "Name: total_sales, dtype: float64\n"
     ]
    }
   ],
   "source": [
    "sales_per_year = data.groupby('year_of_release')['total_sales'].sum()\n",
    "print(sales_per_year)"
   ]
  },
  {
   "cell_type": "code",
   "execution_count": 15,
   "metadata": {},
   "outputs": [
    {
     "name": "stdout",
     "output_type": "stream",
     "text": [
      "platform\n",
      "2600      -1\n",
      "3DO     1994\n",
      "3DS       -1\n",
      "DC      1998\n",
      "DS        -1\n",
      "GB        -1\n",
      "GBA       -1\n",
      "GC        -1\n",
      "GEN     1990\n",
      "GG      1992\n",
      "N64       -1\n",
      "NES     1983\n",
      "NG      1993\n",
      "PC        -1\n",
      "PCFX    1996\n",
      "PS        -1\n",
      "PS2       -1\n",
      "PS3       -1\n",
      "PS4     2013\n",
      "PSP       -1\n",
      "PSV       -1\n",
      "SAT     1994\n",
      "SCD     1993\n",
      "SNES    1990\n",
      "TG16    1995\n",
      "WS      1999\n",
      "Wii       -1\n",
      "WiiU    2012\n",
      "X360      -1\n",
      "XB        -1\n",
      "XOne    2013\n",
      "Name: year_of_release, dtype: int64\n"
     ]
    }
   ],
   "source": [
    "first_year = data.groupby('platform')['year_of_release'].min()\n",
    "print(first_year)"
   ]
  },
  {
   "cell_type": "code",
   "execution_count": 16,
   "metadata": {},
   "outputs": [
    {
     "name": "stdout",
     "output_type": "stream",
     "text": [
      "platform\n",
      "2600    1989\n",
      "3DO     1995\n",
      "3DS     2016\n",
      "DC      2008\n",
      "DS      2013\n",
      "GB      2001\n",
      "GBA     2007\n",
      "GC      2007\n",
      "GEN     1994\n",
      "GG      1992\n",
      "N64     2002\n",
      "NES     1994\n",
      "NG      1996\n",
      "PC      2016\n",
      "PCFX    1996\n",
      "PS      2003\n",
      "PS2     2011\n",
      "PS3     2016\n",
      "PS4     2016\n",
      "PSP     2015\n",
      "PSV     2016\n",
      "SAT     1999\n",
      "SCD     1994\n",
      "SNES    1999\n",
      "TG16    1995\n",
      "WS      2001\n",
      "Wii     2016\n",
      "WiiU    2016\n",
      "X360    2016\n",
      "XB      2008\n",
      "XOne    2016\n",
      "Name: year_of_release, dtype: int64\n"
     ]
    }
   ],
   "source": [
    "last_year = data.groupby('platform')['year_of_release'].max()\n",
    "print(last_year)"
   ]
  },
  {
   "cell_type": "markdown",
   "metadata": {},
   "source": [
    "As plataformas que foram populares e ainda tem vendas significativas são o PS3, PS4, Wii, WiiU, X360 e Xone. Estas plataformas também tem uma tendência recente nas vendas de jogos, mantendo-se estáveis."
   ]
  },
  {
   "cell_type": "code",
   "execution_count": 17,
   "metadata": {},
   "outputs": [
    {
     "name": "stdout",
     "output_type": "stream",
     "text": [
      "                                name platform  year_of_release         genre  \\\n",
      "16                Grand Theft Auto V      PS3             2013        Action   \n",
      "23                Grand Theft Auto V     X360             2013        Action   \n",
      "31         Call of Duty: Black Ops 3      PS4             2015       Shooter   \n",
      "33               Pokemon X/Pokemon Y      3DS             2013  Role-Playing   \n",
      "42                Grand Theft Auto V      PS4             2014        Action   \n",
      "...                              ...      ...              ...           ...   \n",
      "16703               Strawberry Nauts      PSV             2016     Adventure   \n",
      "16707               Aiyoku no Eustia      PSV             2014          Misc   \n",
      "16710  Samurai Warriors: Sanada Maru      PS3             2016        Action   \n",
      "16712        Haitaka no Psychedelica      PSV             2016     Adventure   \n",
      "16714            Winning Post 8 2016      PSV             2016    Simulation   \n",
      "\n",
      "       na_sales  eu_sales  jp_sales  other_sales  critic_score  user_score  \\\n",
      "16         7.02      9.09      0.98         3.96     97.000000    8.200000   \n",
      "23         9.66      5.14      0.06         1.41     97.000000    8.100000   \n",
      "31         6.03      5.86      0.36         2.38     68.967679    7.125046   \n",
      "33         5.28      4.19      4.35         0.78     68.967679    7.125046   \n",
      "42         3.96      6.31      0.38         1.97     97.000000    8.300000   \n",
      "...         ...       ...       ...          ...           ...         ...   \n",
      "16703      0.00      0.00      0.01         0.00     68.967679    7.125046   \n",
      "16707      0.00      0.00      0.01         0.00     68.967679    7.125046   \n",
      "16710      0.00      0.00      0.01         0.00     68.967679    7.125046   \n",
      "16712      0.00      0.00      0.01         0.00     68.967679    7.125046   \n",
      "16714      0.00      0.00      0.01         0.00     68.967679    7.125046   \n",
      "\n",
      "      rating  total_sales  \n",
      "16         M        21.05  \n",
      "23         M        16.27  \n",
      "31      none        14.63  \n",
      "33      none        14.60  \n",
      "42         M        12.62  \n",
      "...      ...          ...  \n",
      "16703   none         0.01  \n",
      "16707   none         0.01  \n",
      "16710   none         0.01  \n",
      "16712   none         0.01  \n",
      "16714   none         0.01  \n",
      "\n",
      "[2233 rows x 12 columns]\n"
     ]
    }
   ],
   "source": [
    "relevant_data = data[data['year_of_release'] >= 2013]\n",
    "print(relevant_data)"
   ]
  },
  {
   "cell_type": "markdown",
   "metadata": {},
   "source": [
    "<div class=\"alert alert-block alert-danger\">\n",
    "<b> Comentário do revisor: </b> <a class=\"tocSkip\"></a>\n",
    "\n",
    "Você precisa recortar a partir de 2013 (ou seja >= 2013)\n",
    "</div>"
   ]
  },
  {
   "cell_type": "markdown",
   "metadata": {},
   "source": [
    "<div class=\"alert alert-block alert-info\">\n",
    "<b>Resposta do Aluno:</b>   \n",
    "\n",
    "Recorte corrigido. <a class=\"tocSkip\"></a>\n",
    "</div>"
   ]
  },
  {
   "cell_type": "code",
   "execution_count": 18,
   "metadata": {},
   "outputs": [
    {
     "name": "stdout",
     "output_type": "stream",
     "text": [
      "platform\n",
      "PS4     314.14\n",
      "PS3     181.43\n",
      "XOne    159.32\n",
      "3DS     143.25\n",
      "X360    136.80\n",
      "WiiU     64.63\n",
      "PC       39.43\n",
      "PSV      32.99\n",
      "Wii      13.66\n",
      "PSP       3.50\n",
      "DS        1.54\n",
      "Name: total_sales, dtype: float64\n"
     ]
    }
   ],
   "source": [
    "leading_platforms = relevant_data.groupby('platform')['total_sales'].sum().sort_values(ascending=False)\n",
    "print(leading_platforms)"
   ]
  },
  {
   "cell_type": "code",
   "execution_count": 19,
   "metadata": {},
   "outputs": [
    {
     "name": "stdout",
     "output_type": "stream",
     "text": [
      "year_of_release    2013    2014    2015   2016\n",
      "platform                                      \n",
      "3DS               56.57   43.76   27.78  15.14\n",
      "DS                 1.54     NaN     NaN    NaN\n",
      "PC                12.38   13.28    8.52   5.25\n",
      "PS3              113.25   47.76   16.82   3.60\n",
      "PS4               25.99  100.00  118.90  69.25\n",
      "PSP                3.14    0.24    0.12    NaN\n",
      "PSV               10.59   11.90    6.25   4.25\n",
      "Wii                8.59    3.75    1.14   0.18\n",
      "WiiU              21.65   22.03   16.35   4.60\n",
      "X360              88.58   34.74   11.96   1.52\n",
      "XOne              18.96   54.07   60.14  26.15\n"
     ]
    }
   ],
   "source": [
    "platform_trends = relevant_data.groupby(['platform', 'year_of_release'])['total_sales'].sum().unstack()\n",
    "print(platform_trends)"
   ]
  },
  {
   "cell_type": "code",
   "execution_count": 20,
   "metadata": {},
   "outputs": [
    {
     "data": {
      "image/png": "[encoded data removed]",
      "text/plain": [
       "<Figure size 864x432 with 1 Axes>"
      ]
     },
     "metadata": {
      "needs_background": "light"
     },
     "output_type": "display_data"
    }
   ],
   "source": [
    "import matplotlib.pyplot as plt\n",
    "\n",
    "plt.figure(figsize=(12, 6))\n",
    "plt.boxplot([relevant_data[relevant_data['platform'] == platform]['total_sales'] for platform in relevant_data['platform'].unique()],\n",
    "            labels=relevant_data['platform'].unique())\n",
    "plt.title('Vendas Globais por Plataforma (2013-2016)')\n",
    "plt.xlabel('Plataforma')\n",
    "plt.ylabel('Vendas Globais (em milhões)')\n",
    "plt.xticks(rotation=90)\n",
    "plt.yscale('log') \n",
    "plt.show()\n"
   ]
  },
  {
   "cell_type": "code",
   "execution_count": 21,
   "metadata": {},
   "outputs": [
    {
     "name": "stdout",
     "output_type": "stream",
     "text": [
      "                                 name platform  year_of_release         genre  \\\n",
      "31          Call of Duty: Black Ops 3      PS4             2015       Shooter   \n",
      "42                 Grand Theft Auto V      PS4             2014        Action   \n",
      "77                            FIFA 16      PS4             2015        Sports   \n",
      "87       Star Wars Battlefront (2015)      PS4             2015       Shooter   \n",
      "92     Call of Duty: Advanced Warfare      PS4             2014       Shooter   \n",
      "...                               ...      ...              ...           ...   \n",
      "16500                     Root Letter      PS4             2016     Adventure   \n",
      "16503               Shin Hayarigami 2      PS4             2016     Adventure   \n",
      "16526                      Dungeons 2      PS4             2016  Role-Playing   \n",
      "16530         Carmageddon: Max Damage      PS4             2016        Action   \n",
      "16585   Farming 2017 - The Simulation      PS4             2016    Simulation   \n",
      "\n",
      "       na_sales  eu_sales  jp_sales  other_sales  critic_score  user_score  \\\n",
      "31         6.03      5.86      0.36         2.38     68.967679    7.125046   \n",
      "42         3.96      6.31      0.38         1.97     97.000000    8.300000   \n",
      "77         1.12      6.12      0.06         1.28     82.000000    4.300000   \n",
      "87         2.99      3.49      0.22         1.28     68.967679    7.125046   \n",
      "92         2.81      3.48      0.14         1.23     83.000000    5.700000   \n",
      "...         ...       ...       ...          ...           ...         ...   \n",
      "16500      0.00      0.00      0.01         0.00     69.000000    7.500000   \n",
      "16503      0.00      0.00      0.01         0.00     68.967679    7.125046   \n",
      "16526      0.01      0.00      0.00         0.00     61.000000    7.900000   \n",
      "16530      0.01      0.00      0.00         0.00     51.000000    5.500000   \n",
      "16585      0.00      0.01      0.00         0.00     68.967679    7.125046   \n",
      "\n",
      "      rating  total_sales  \n",
      "31      none        14.63  \n",
      "42         M        12.62  \n",
      "77         E         8.58  \n",
      "87      none         7.98  \n",
      "92         M         7.66  \n",
      "...      ...          ...  \n",
      "16500   none         0.01  \n",
      "16503   none         0.01  \n",
      "16526      T         0.01  \n",
      "16530      M         0.01  \n",
      "16585   none         0.01  \n",
      "\n",
      "[392 rows x 12 columns]\n"
     ]
    }
   ],
   "source": [
    "ps4_data = relevant_data[relevant_data['platform'] == 'PS4']\n",
    "print(ps4_data)"
   ]
  },
  {
   "cell_type": "code",
   "execution_count": 22,
   "metadata": {},
   "outputs": [
    {
     "name": "stdout",
     "output_type": "stream",
     "text": [
      "0.3490095802924567\n"
     ]
    }
   ],
   "source": [
    "correlation_critic = ps4_data['critic_score'].corr(ps4_data['total_sales'])\n",
    "print(correlation_critic)"
   ]
  },
  {
   "cell_type": "code",
   "execution_count": 23,
   "metadata": {},
   "outputs": [
    {
     "name": "stdout",
     "output_type": "stream",
     "text": [
      "-0.045390861003324096\n"
     ]
    }
   ],
   "source": [
    "correlation_user = ps4_data['user_score'].corr(ps4_data['total_sales'])\n",
    "print(correlation_user)"
   ]
  },
  {
   "cell_type": "code",
   "execution_count": 24,
   "metadata": {},
   "outputs": [
    {
     "data": {
      "image/png": "[encoded data removed]",
      "text/plain": [
       "<Figure size 432x288 with 1 Axes>"
      ]
     },
     "metadata": {
      "needs_background": "light"
     },
     "output_type": "display_data"
    },
    {
     "data": {
      "image/png": "[encoded data removed]",
      "text/plain": [
       "<Figure size 432x288 with 1 Axes>"
      ]
     },
     "metadata": {
      "needs_background": "light"
     },
     "output_type": "display_data"
    }
   ],
   "source": [
    "plt.scatter(ps4_data['critic_score'], ps4_data['total_sales'])\n",
    "plt.title('Correlação entre Critic Score e Vendas Globais (PS4)')\n",
    "plt.xlabel('Critic Score')\n",
    "plt.ylabel('Vendas Globais (em milhões)')\n",
    "plt.show()\n",
    "\n",
    "plt.scatter(ps4_data['user_score'], ps4_data['total_sales'])\n",
    "plt.title('Correlação entre User Score e Vendas Globais (PS4)')\n",
    "plt.xlabel('User Score')\n",
    "plt.ylabel('Vendas Globais (em milhões)')\n",
    "plt.show()\n"
   ]
  },
  {
   "cell_type": "code",
   "execution_count": 25,
   "metadata": {},
   "outputs": [
    {
     "data": {
      "image/png": "[encoded data removed]",
      "text/plain": [
       "<Figure size 432x288 with 1 Axes>"
      ]
     },
     "metadata": {
      "needs_background": "light"
     },
     "output_type": "display_data"
    }
   ],
   "source": [
    "plt.scatter(relevant_data['critic_score'], relevant_data['total_sales'])\n",
    "plt.title('Gráfico de Dispersão: Correlação entre Critic Score e Vendas Globais')\n",
    "plt.xlabel('Critic Score')\n",
    "plt.ylabel('Vendas Globais (em milhões)')\n",
    "plt.show()"
   ]
  },
  {
   "cell_type": "code",
   "execution_count": 26,
   "metadata": {},
   "outputs": [
    {
     "name": "stdout",
     "output_type": "stream",
     "text": [
      "0.2716918747226642\n"
     ]
    }
   ],
   "source": [
    "correlation_critic = relevant_data['critic_score'].corr(relevant_data['total_sales'])\n",
    "print(correlation_critic)"
   ]
  },
  {
   "cell_type": "code",
   "execution_count": 27,
   "metadata": {},
   "outputs": [
    {
     "name": "stdout",
     "output_type": "stream",
     "text": [
      "-0.03851822836482389\n"
     ]
    }
   ],
   "source": [
    "correlation_user = relevant_data['user_score'].corr(relevant_data['total_sales'])\n",
    "print(correlation_user)"
   ]
  },
  {
   "cell_type": "code",
   "execution_count": 28,
   "metadata": {},
   "outputs": [
    {
     "name": "stdout",
     "output_type": "stream",
     "text": [
      "genre\n",
      "Action          321.87\n",
      "Shooter         232.98\n",
      "Sports          150.65\n",
      "Role-Playing    145.89\n",
      "Misc             62.82\n",
      "Platform         42.63\n",
      "Racing           39.89\n",
      "Fighting         35.31\n",
      "Adventure        23.64\n",
      "Simulation       21.76\n",
      "Strategy         10.08\n",
      "Puzzle            3.17\n",
      "Name: total_sales, dtype: float64\n"
     ]
    }
   ],
   "source": [
    "genre_sales = relevant_data.groupby('genre')['total_sales'].sum().sort_values(ascending=False)\n",
    "print(genre_sales)"
   ]
  },
  {
   "cell_type": "code",
   "execution_count": 29,
   "metadata": {},
   "outputs": [
    {
     "data": {
      "image/png": "[encoded data removed]",
      "text/plain": [
       "<Figure size 864x432 with 1 Axes>"
      ]
     },
     "metadata": {
      "needs_background": "light"
     },
     "output_type": "display_data"
    }
   ],
   "source": [
    "plt.figure(figsize=(12, 6))\n",
    "plt.bar(genre_sales.index, genre_sales)\n",
    "plt.title('Distribuição de Jogos por Gênero (2013-2016)')\n",
    "plt.xlabel('Gênero')\n",
    "plt.ylabel('Vendas Globais (em milhões)')\n",
    "plt.xticks(rotation=90)\n",
    "plt.show()"
   ]
  },
  {
   "cell_type": "markdown",
   "metadata": {},
   "source": [
    "Gêneros com vendas altas: Action, Shooter, Sports e Role-Playing.\n",
    "Gêneros com vendas baixas: Simulation, Adventure, Strategy e Puzzle.\n",
    "No entanto, é importante notar que a lucratividade dos gêneros pode variar ao longo do tempo e depender de fatores como tendências de mercado, lançamentos de jogos populares e preferências dos jogadores."
   ]
  },
  {
   "cell_type": "code",
   "execution_count": 30,
   "metadata": {},
   "outputs": [
    {
     "name": "stdout",
     "output_type": "stream",
     "text": [
      "platform\n",
      "PS4     108.74\n",
      "XOne     93.12\n",
      "X360     81.66\n",
      "PS3      63.50\n",
      "3DS      38.20\n",
      "Name: na_sales, dtype: float64\n",
      "platform\n",
      "PS4     141.09\n",
      "PS3      67.81\n",
      "XOne     51.59\n",
      "X360     42.52\n",
      "3DS      30.96\n",
      "Name: eu_sales, dtype: float64\n",
      "platform\n",
      "3DS     67.81\n",
      "PS3     23.35\n",
      "PSV     18.59\n",
      "PS4     15.96\n",
      "WiiU    10.88\n",
      "Name: jp_sales, dtype: float64\n"
     ]
    }
   ],
   "source": [
    "na_platforms = relevant_data.groupby('platform')['na_sales'].sum().sort_values(ascending=False).head(5)\n",
    "eu_platforms = relevant_data.groupby('platform')['eu_sales'].sum().sort_values(ascending=False).head(5)\n",
    "jp_platforms = relevant_data.groupby('platform')['jp_sales'].sum().sort_values(ascending=False).head(5)\n",
    "print(na_platforms)\n",
    "print(eu_platforms)\n",
    "print(jp_platforms)"
   ]
  },
  {
   "cell_type": "code",
   "execution_count": 31,
   "metadata": {},
   "outputs": [
    {
     "data": {
      "image/png": "[encoded data removed]",
      "text/plain": [
       "<Figure size 864x432 with 1 Axes>"
      ]
     },
     "metadata": {
      "needs_background": "light"
     },
     "output_type": "display_data"
    }
   ],
   "source": [
    "plt.figure(figsize=(12, 6))\n",
    "plt.bar(na_platforms.index, na_platforms)\n",
    "plt.title('Quotas de Mercado das Cinco Principais Plataformas - América do Norte (NA)')\n",
    "plt.xlabel('Plataforma')\n",
    "plt.ylabel('Vendas Globais (em milhões)')\n",
    "plt.xticks(rotation=90)\n",
    "plt.show()"
   ]
  },
  {
   "cell_type": "markdown",
   "metadata": {},
   "source": [
    "Essa análise permite que identificar as cinco principais plataformas na região da América do Norte e compreende as variações nas quotas de mercado. Pode ser útil para estratégias de lançamento de jogos e marketing, levando em consideração as preferências regionais."
   ]
  },
  {
   "cell_type": "code",
   "execution_count": 32,
   "metadata": {},
   "outputs": [
    {
     "data": {
      "image/png": "[encoded data removed]",
      "text/plain": [
       "<Figure size 864x432 with 1 Axes>"
      ]
     },
     "metadata": {
      "needs_background": "light"
     },
     "output_type": "display_data"
    }
   ],
   "source": [
    "plt.figure(figsize=(12, 6))\n",
    "plt.bar(eu_platforms.index, eu_platforms)\n",
    "plt.title('Quotas de Mercado das Cinco Principais Plataformas - Europa (EU)')\n",
    "plt.xlabel('Plataforma')\n",
    "plt.ylabel('Vendas Globais (em milhões)')\n",
    "plt.xticks(rotation=90)\n",
    "plt.show()"
   ]
  },
  {
   "cell_type": "markdown",
   "metadata": {},
   "source": [
    "Essa análise permite que identificar as cinco principais plataformas na região da Europa e compreende as variações nas quotas de mercado. Pode ser útil para estratégias de lançamento de jogos e marketing, levando em consideração as preferências regionais."
   ]
  },
  {
   "cell_type": "code",
   "execution_count": 33,
   "metadata": {},
   "outputs": [
    {
     "data": {
      "image/png": "[encoded data removed]",
      "text/plain": [
       "<Figure size 864x432 with 1 Axes>"
      ]
     },
     "metadata": {
      "needs_background": "light"
     },
     "output_type": "display_data"
    }
   ],
   "source": [
    "plt.figure(figsize=(12, 6))\n",
    "plt.bar(jp_platforms.index, jp_platforms)\n",
    "plt.title('Quotas de Mercado das Cinco Principais Plataformas - Japão (JP)')\n",
    "plt.xlabel('Plataforma')\n",
    "plt.ylabel('Vendas Globais (em milhões)')\n",
    "plt.xticks(rotation=90)\n",
    "plt.show()"
   ]
  },
  {
   "cell_type": "markdown",
   "metadata": {},
   "source": [
    "Essa análise permite que identificar as cinco principais plataformas no Japão e compreende as variações nas quotas de mercado. Pode ser útil para estratégias de lançamento de jogos e marketing, levando em consideração as preferências regionais."
   ]
  },
  {
   "cell_type": "code",
   "execution_count": 34,
   "metadata": {},
   "outputs": [
    {
     "name": "stdout",
     "output_type": "stream",
     "text": [
      "genre\n",
      "Action          321.87\n",
      "Shooter         232.98\n",
      "Sports          150.65\n",
      "Role-Playing    145.89\n",
      "Misc             62.82\n",
      "Name: total_sales, dtype: float64\n"
     ]
    }
   ],
   "source": [
    "top_genres = relevant_data.groupby('genre')['total_sales'].sum().sort_values(ascending=False).head(5)\n",
    "print(top_genres)"
   ]
  },
  {
   "cell_type": "code",
   "execution_count": 35,
   "metadata": {},
   "outputs": [
    {
     "data": {
      "image/png": "[encoded data removed]",
      "text/plain": [
       "<Figure size 864x432 with 1 Axes>"
      ]
     },
     "metadata": {
      "needs_background": "light"
     },
     "output_type": "display_data"
    }
   ],
   "source": [
    "plt.figure(figsize=(12, 6))\n",
    "plt.bar(top_genres.index, top_genres)\n",
    "plt.title('Quotas de Mercado dos Cinco Principais Gêneros de Jogos (2010-2016)')\n",
    "plt.xlabel('Gênero')\n",
    "plt.ylabel('Vendas Globais (em milhões)')\n",
    "plt.xticks(rotation=45)\n",
    "plt.show()"
   ]
  },
  {
   "cell_type": "markdown",
   "metadata": {},
   "source": [
    "As diferenças entre os gêneros de jogos refletem as preferências dos jogadores e os estilos de jogo. Cada gênero tem seus próprios elementos e atrações específicas. A popularidade de um gênero pode variar ao longo do tempo e de uma região para outra. A compreensão dessas diferenças é fundamental para o desenvolvimento e marketing de jogos.\n",
    "\n",
    "A análise das quotas de mercado e a explicação das diferenças entre os gêneros ajudam a entender a dinâmica do mercado de videogames e a adaptar estratégias de desenvolvimento e lançamento de jogos para atender às preferências dos jogadores."
   ]
  },
  {
   "cell_type": "markdown",
   "metadata": {},
   "source": [
    "<div class=\"alert alert-block alert-danger\">\n",
    "<b> Comentário do revisor: </b> <a class=\"tocSkip\"></a>\n",
    "\n",
    "A seção do teste de hipótese está incorreta. Você fixou os valores. Você precisa usar os dados fornececidos. Você precisa investigar essas duas hipóteses usando so dados reais/fornecidos:\n",
    "    \n",
    "- Teste de hipótese para verificar se as classificações médias dos usuários das plataformas Xbox One e PC são as mesmas    \n",
    "- Teste de hipótese para verificar se as classificações médias de usuários para os gêneros Action (ação) e Sports (esportes) são diferentes\n",
    "\n",
    "Para isso você precisa seguir esses passos:\n",
    "- Definir a hipótese nula (ex: a altura média é igual entre homem e mulheres)\n",
    "- Definir a hipótese alternativa (ex: a altura média não é igual entre homem e mulheres)\n",
    "- Usar o teste Levene para avaliar a suposição de igualdade de variâncias do teste T (https://docs.scipy.org/doc/scipy/reference/generated/scipy.stats.levene.html)\n",
    "- Se a hipótese nula de Levene não for rejeita, usamos equal_var=True, senão usamos equal_var=False no teste T\n",
    "- Avaliar o resultado do teste\n",
    "</div>"
   ]
  },
  {
   "cell_type": "markdown",
   "metadata": {},
   "source": [
    "<div class=\"alert alert-block alert-info\">\n",
    "<b>Resposta do Aluno:</b>   \n",
    "\n",
    "Teste de hipótese corrigido. <a class=\"tocSkip\"></a>\n",
    "</div>"
   ]
  },
  {
   "cell_type": "code",
   "execution_count": 36,
   "metadata": {},
   "outputs": [
    {
     "name": "stdout",
     "output_type": "stream",
     "text": [
      "Rejeite a hipótese nula: As médias não são iguais.\n"
     ]
    }
   ],
   "source": [
    "from scipy.stats import ttest_ind, levene\n",
    "\n",
    "ratings_xbox_one = data[data['platform'] == 'XOne']['user_score'].dropna()\n",
    "ratings_pc = data[data['platform'] == 'PC']['user_score'].dropna()\n",
    "\n",
    "statistic, p_value_levene = levene(ratings_xbox_one, ratings_pc)\n",
    "\n",
    "if p_value_levene > 0.05:\n",
    "    equal_var = True\n",
    "else:\n",
    "    equal_var = False\n",
    "\n",
    "t_statistic, p_value_t = ttest_ind(ratings_xbox_one, ratings_pc, equal_var=equal_var)\n",
    "\n",
    "alpha = 0.05\n",
    "if p_value_t < alpha:\n",
    "    print(\"Rejeite a hipótese nula: As médias não são iguais.\")\n",
    "else:\n",
    "    print(\"Não rejeite a hipótese nula: As médias são iguais.\")"
   ]
  },
  {
   "cell_type": "markdown",
   "metadata": {},
   "source": [
    "<div class=\"alert alert-block alert-danger\">\n",
    "<b> Comentário do revisor: </b> <a class=\"tocSkip\"></a>\n",
    "\n",
    "De onde saíram essas notas? Você precisa usar as notas fornecidas, para isso você precisa indexar: relevant_data.loc[relevant_data['platform'] == 'X360', 'user_score']\n",
    "</div>"
   ]
  },
  {
   "cell_type": "code",
   "execution_count": 37,
   "metadata": {},
   "outputs": [
    {
     "name": "stdout",
     "output_type": "stream",
     "text": [
      "Não rejeite a hipótese nula: As médias são iguais.\n"
     ]
    }
   ],
   "source": [
    "ratings_action = data[data['genre'] == 'Action']['user_score'].dropna()\n",
    "ratings_sports = data[data['genre'] == 'Sports']['user_score'].dropna()\n",
    "\n",
    "statistic, p_value_levene = levene(ratings_action, ratings_sports)\n",
    "\n",
    "if p_value_levene > 0.05:\n",
    "    equal_var = True\n",
    "else:\n",
    "    equal_var = False\n",
    "\n",
    "t_statistic, p_value_t = ttest_ind(ratings_action, ratings_sports, equal_var=equal_var)\n",
    "\n",
    "alpha = 0.05\n",
    "if p_value_t < alpha:\n",
    "    print(\"Rejeite a hipótese nula: As médias não são iguais.\")\n",
    "else:\n",
    "    print(\"Não rejeite a hipótese nula: As médias são iguais.\")\n",
    "\n"
   ]
  },
  {
   "cell_type": "markdown",
   "metadata": {},
   "source": [
    "<div class=\"alert alert-block alert-danger\">\n",
    "<b> Comentário do revisor: </b> <a class=\"tocSkip\"></a>\n",
    "\n",
    "De onde saíram essas notas? Você precisa usar as notas fornecidas, para isso você precisa indexar: relevant_data.loc[relevant_data['platform'] == 'X360', 'user_score']\n",
    "</div>"
   ]
  },
  {
   "cell_type": "markdown",
   "metadata": {},
   "source": [
    "Hipótese Nula (H0): Afirma que as médias das classificações de usuários nos dois gêneros não são iguais. Ela assume que há diferença significativa nas classificações entre esses gêneros.\n",
    "Hipótese Alternativa (H1): Afirma que as médias das classificações são iguais, ou seja, não existe uma diferença significativa entre as classificações.\n",
    "\n",
    "Nível de Significância (Alfa): O valor típico é 0,05, o que significa que estamos dispostos a aceitar um erro de 5% ao rejeitar a H0.\n",
    "\n",
    "Comparação com o Nível de Significância: Comparamos o valor-p calculado com o nível de significância (alfa) estabelecido. Se o valor-p for menor que alfa, rejeitamos a H0, o que significa que há evidência estatística para a H1. Se o valor-p for maior que alfa, não rejeitamos a H0, indicando que não há evidência estatística para a H1."
   ]
  },
  {
   "cell_type": "markdown",
   "metadata": {},
   "source": [
    "\n",
    "<div class=\"alert alert-block alert-success\">\n",
    "<b>Comentário Geral do Revisor</b> <a class=\"tocSkip\"></a>\n",
    "\n",
    "Obrigado por enviar seu projeto. \n",
    "    \n",
    "Parabéns, você fez um bom trabalho. No geral, você respondeu corretamente as questões.\n",
    "    \n",
    "<span class=\"text-danger\">Porém, há espaço para melhorias conforme os itens apontados anteriormente. Destaco os  pontos a seguir: </span>\n",
    " * <span class=\"text-danger\"> Recortar os dados a partir do período indicado </span>\n",
    " * <span class=\"text-danger\"> Retificar a seção de teste de hipótese </span>\n",
    "\n",
    "\n",
    "Portanto, sugiro que você corrija os pontos indicados.\n",
    "    \n",
    "Se você tiver alguma dúvida sobre de algo que você não tenha entendido, sinta-se à vontade para perguntar ao tutor ou deixar um comentário para que, na próxima iteração, eu possa responder.\n",
    "\n",
    "Conte conosco. Lembre-se de que você pode tirar dúvidas comigo usando os comentários ou buscar ajuda de um tutor.\n",
    "Bom trabalho.\n",
    "</div>"
   ]
  },
  {
   "cell_type": "markdown",
   "metadata": {},
   "source": [
    "\n",
    "<div class=\"alert alert-block alert-success\">\n",
    "<b>Comentário Geral do Revisor</b> <a class=\"tocSkip\"></a>\n",
    "\n",
    "Parabéns pela aprovação. Comemore.\n",
    "Eu acredito que a única questão a observar é quanto à imputação de dados. Por exemplo, imputar as notas com média talvez não seja a opção mais adquada. Por exemplo, podemos utilizar a média ou mediana em função do gênero e plataforma, buscar a média das notas do mesmo jogo mas em plataforma diferente. Outra opção usar a média por região e gênero, pois vamos analisar os dados por região. Em resumo, como analista/cientista de dados, precisamos buscar a melhor forma de fazer a imputação. Neste projeto, o melhor é não preencher.\n",
    "\n",
    "Desejo sucesso na jornada.\n",
    "</div>"
   ]
  }
 ],
 "metadata": {
  "kernelspec": {
   "display_name": "Python 3 (ipykernel)",
   "language": "python",
   "name": "python3"
  },
  "language_info": {
   "codemirror_mode": {
    "name": "ipython",
    "version": 3
   },
   "file_extension": ".py",
   "mimetype": "text/x-python",
   "name": "python",
   "nbconvert_exporter": "python",
   "pygments_lexer": "ipython3",
   "version": "3.9.5"
  },
  "toc": {
   "base_numbering": 1,
   "nav_menu": {},
   "number_sections": true,
   "sideBar": true,
   "skip_h1_title": true,
   "title_cell": "Table of Contents",
   "title_sidebar": "Contents",
   "toc_cell": false,
   "toc_position": {},
   "toc_section_display": true,
   "toc_window_display": false
  }
 },
 "nbformat": 4,
 "nbformat_minor": 2
}
